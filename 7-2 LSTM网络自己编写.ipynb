{
 "cells": [
  {
   "cell_type": "code",
   "execution_count": 1,
   "metadata": {},
   "outputs": [
    {
     "name": "stdout",
     "output_type": "stream",
     "text": [
      "Extracting MNIST_data\\train-images-idx3-ubyte.gz\n",
      "Extracting MNIST_data\\train-labels-idx1-ubyte.gz\n",
      "Extracting MNIST_data\\t10k-images-idx3-ubyte.gz\n",
      "Extracting MNIST_data\\t10k-labels-idx1-ubyte.gz\n",
      "(50, 28, 100)\n",
      "(50, 100)\n"
     ]
    }
   ],
   "source": [
    "import tensorflow as tf\n",
    "from tensorflow.examples.tutorials.mnist import input_data\n",
    "from tensorflow.contrib import rnn\n",
    " \n",
    " \n",
    "mnist = input_data.read_data_sets('MNIST_data', one_hot=True)\n",
    " \n",
    "#输入图片格式是28*28\n",
    "n_inputs = 28#输入一行，一行有28个数据\n",
    "max_time = 28#序列长度\n",
    "lstm_size = 100#隐层单元\n",
    "n_class = 10#分类个数\n",
    "batch_size = 50#每个批次样本大小\n",
    "\n",
    " \n",
    "x = tf.placeholder(tf.float32, [None, 784])\n",
    "y = tf.placeholder(tf.float32, [None, 10])\n",
    " \n",
    "#初始化权值\n",
    "weights = tf.Variable(tf.truncated_normal([lstm_size, n_class], stddev = 0.1))\n",
    "biase = tf.Variable(tf.constant(0.1, shape=[n_class]))\n",
    " \n",
    "\n",
    "#inputs format : [batch_size, max_time, n_inputs]\n",
    "inputs = tf.reshape(x, [-1, max_time, n_inputs])\n",
    "#定义LSTM基本cell\n",
    "lstm_cell = rnn.BasicLSTMCell(lstm_size)\n",
    "#final_state[0]是 cell_state, shape是[50,100]\n",
    "#final_state[1]是 hidden_state, shape是[50,100]\n",
    "#outputs是所有层的输出结果, shape是[50,max_time, 100]\n",
    "outputs, final_state = tf.nn.dynamic_rnn(lstm_cell, inputs, dtype=tf.float32)\n",
    "zo = outputs\n",
    "zf = final_state[1]\n",
    "prediction = tf.nn.softmax(tf.matmul(final_state[1], weights) + biase)\n",
    "\n",
    " \n",
    "\n",
    "#损失函数\n",
    "cross_entropy = tf.reduce_mean(tf.nn.softmax_cross_entropy_with_logits(labels=y, logits=prediction))\n",
    "#优化器\n",
    "train_step = tf.train.AdamOptimizer(1e-4).minimize(cross_entropy)\n",
    "#计算准确率\n",
    "correct_prediction = tf.equal(tf.argmax(y, 1), tf.argmax(prediction, 1))\n",
    "accuracy = tf.reduce_mean(tf.cast(correct_prediction, tf.float32))\n",
    " \n",
    "init = tf.global_variables_initializer()\n",
    " \n",
    "with tf.Session() as sess:\n",
    "    sess.run(init)\n",
    "    batch_xs, batch_ys = mnist.train.next_batch(batch_size)\n",
    "    sess.run(train_step, feed_dict={x:batch_xs, y:batch_ys})\n",
    "    out1,final_1 = sess.run([outputs, final_state], feed_dict={x:batch_xs, y:batch_ys})\n",
    "    #final_1= sess.run(zf, feed_dict={x:batch_xs, y:batch_ys})\n",
    "    print(out1.shape)\n",
    "    print(final_1[1].shape)\n",
    "    \n",
    "    \n",
    "  \n",
    " \n",
    " \n",
    " \n"
   ]
  }
 ],
 "metadata": {
  "kernelspec": {
   "display_name": "Python 3",
   "language": "python",
   "name": "python3"
  },
  "language_info": {
   "codemirror_mode": {
    "name": "ipython",
    "version": 3
   },
   "file_extension": ".py",
   "mimetype": "text/x-python",
   "name": "python",
   "nbconvert_exporter": "python",
   "pygments_lexer": "ipython3",
   "version": "3.6.2"
  }
 },
 "nbformat": 4,
 "nbformat_minor": 2
}
