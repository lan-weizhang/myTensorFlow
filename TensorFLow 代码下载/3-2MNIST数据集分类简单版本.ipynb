{
 "cells": [
  {
   "cell_type": "markdown",
   "metadata": {},
   "source": [
    "### 课程代码"
   ]
  },
  {
   "cell_type": "code",
   "execution_count": 1,
   "metadata": {
    "collapsed": true
   },
   "outputs": [],
   "source": [
    "import tensorflow as tf\n",
    "from tensorflow.examples.tutorials.mnist import input_data"
   ]
  },
  {
   "cell_type": "code",
   "execution_count": 2,
   "metadata": {
    "scrolled": false
   },
   "outputs": [
    {
     "name": "stdout",
     "output_type": "stream",
     "text": [
      "WARNING:tensorflow:From <ipython-input-2-911ded80008e>:2: read_data_sets (from tensorflow.contrib.learn.python.learn.datasets.mnist) is deprecated and will be removed in a future version.\n",
      "Instructions for updating:\n",
      "Please use alternatives such as official/mnist/dataset.py from tensorflow/models.\n",
      "WARNING:tensorflow:From D:\\SoftWare\\Anaconda3\\envs\\pyDL\\lib\\site-packages\\tensorflow\\contrib\\learn\\python\\learn\\datasets\\mnist.py:260: maybe_download (from tensorflow.contrib.learn.python.learn.datasets.base) is deprecated and will be removed in a future version.\n",
      "Instructions for updating:\n",
      "Please write your own downloading logic.\n",
      "WARNING:tensorflow:From D:\\SoftWare\\Anaconda3\\envs\\pyDL\\lib\\site-packages\\tensorflow\\contrib\\learn\\python\\learn\\datasets\\mnist.py:262: extract_images (from tensorflow.contrib.learn.python.learn.datasets.mnist) is deprecated and will be removed in a future version.\n",
      "Instructions for updating:\n",
      "Please use tf.data to implement this functionality.\n",
      "Extracting MNIST_data\\train-images-idx3-ubyte.gz\n",
      "WARNING:tensorflow:From D:\\SoftWare\\Anaconda3\\envs\\pyDL\\lib\\site-packages\\tensorflow\\contrib\\learn\\python\\learn\\datasets\\mnist.py:267: extract_labels (from tensorflow.contrib.learn.python.learn.datasets.mnist) is deprecated and will be removed in a future version.\n",
      "Instructions for updating:\n",
      "Please use tf.data to implement this functionality.\n",
      "Extracting MNIST_data\\train-labels-idx1-ubyte.gz\n",
      "WARNING:tensorflow:From D:\\SoftWare\\Anaconda3\\envs\\pyDL\\lib\\site-packages\\tensorflow\\contrib\\learn\\python\\learn\\datasets\\mnist.py:110: dense_to_one_hot (from tensorflow.contrib.learn.python.learn.datasets.mnist) is deprecated and will be removed in a future version.\n",
      "Instructions for updating:\n",
      "Please use tf.one_hot on tensors.\n",
      "Extracting MNIST_data\\t10k-images-idx3-ubyte.gz\n",
      "Extracting MNIST_data\\t10k-labels-idx1-ubyte.gz\n",
      "WARNING:tensorflow:From D:\\SoftWare\\Anaconda3\\envs\\pyDL\\lib\\site-packages\\tensorflow\\contrib\\learn\\python\\learn\\datasets\\mnist.py:290: DataSet.__init__ (from tensorflow.contrib.learn.python.learn.datasets.mnist) is deprecated and will be removed in a future version.\n",
      "Instructions for updating:\n",
      "Please use alternatives such as official/mnist/dataset.py from tensorflow/models.\n"
     ]
    }
   ],
   "source": [
    "# 载入数据\n",
    "mnist = input_data.read_data_sets('MNIST_data', one_hot=True)"
   ]
  },
  {
   "cell_type": "code",
   "execution_count": 26,
   "metadata": {},
   "outputs": [
    {
     "name": "stdout",
     "output_type": "stream",
     "text": [
      "Iter 0 Testing Accuracy: 0.7925\n",
      "Iter 1 Testing Accuracy: 0.8602\n",
      "Iter 2 Testing Accuracy: 0.875\n",
      "Iter 3 Testing Accuracy: 0.8815\n",
      "Iter 4 Testing Accuracy: 0.8872\n",
      "Iter 5 Testing Accuracy: 0.8926\n",
      "Iter 6 Testing Accuracy: 0.8959\n",
      "Iter 7 Testing Accuracy: 0.8971\n",
      "Iter 8 Testing Accuracy: 0.8998\n",
      "Iter 9 Testing Accuracy: 0.9014\n",
      "Iter 10 Testing Accuracy: 0.9022\n",
      "Iter 11 Testing Accuracy: 0.904\n",
      "Iter 12 Testing Accuracy: 0.9057\n",
      "Iter 13 Testing Accuracy: 0.906\n",
      "Iter 14 Testing Accuracy: 0.907\n",
      "Iter 15 Testing Accuracy: 0.9074\n",
      "Iter 16 Testing Accuracy: 0.909\n",
      "Iter 17 Testing Accuracy: 0.9092\n",
      "Iter 18 Testing Accuracy: 0.91\n",
      "Iter 19 Testing Accuracy: 0.9106\n",
      "Iter 20 Testing Accuracy: 0.9116\n"
     ]
    }
   ],
   "source": [
    "# 批次的大小\n",
    "batch_size = 128\n",
    "n_batch = mnist.train.num_examples // batch_size\n",
    "\n",
    "x = tf.placeholder(tf.float32, [None,784])\n",
    "y = tf.placeholder(tf.float32, [None, 10])\n",
    "\n",
    "# 创建一个简单的神经网络\n",
    "W = tf.Variable(tf.zeros([784,10]))\n",
    "b = tf.Variable(tf.zeros([1, 10]))\n",
    "prediction = tf.nn.softmax(tf.matmul(x,W) + b)\n",
    "\n",
    "# 代价函数\n",
    "loss = tf.reduce_mean(tf.square(y-prediction))\n",
    "\n",
    "# 梯度下降法\n",
    "train_step = tf.train.GradientDescentOptimizer(0.2).minimize(loss)\n",
    "\n",
    "# 初始化变量\n",
    "init = tf.global_variables_initializer()\n",
    "\n",
    "# 得到一个布尔型列表，存放结果是否正确\n",
    "correct_prediction = tf.equal(tf.argmax(y,1), tf.argmax(prediction,1)) #argmax 返回一维张量中最大值索引\n",
    "\n",
    "# 求准确率\n",
    "accuracy = tf.reduce_mean(tf.cast(correct_prediction,tf.float32)) # 把布尔值转换为浮点型求平均数\n",
    "\n",
    "with tf.Session() as sess:\n",
    "    sess.run(init)\n",
    "    for epoch in range(21):\n",
    "        for batch in range(n_batch):\n",
    "            # 获得批次数据\n",
    "            batch_xs, batch_ys = mnist.train.next_batch(batch_size)\n",
    "            sess.run(train_step, feed_dict={x:batch_xs, y:batch_ys})\n",
    "        acc = sess.run(accuracy, feed_dict={x:mnist.test.images,y:mnist.test.labels})\n",
    "        print(\"Iter \" + str(epoch) + \" Testing Accuracy: \" + str(acc))"
   ]
  },
  {
   "cell_type": "markdown",
   "metadata": {},
   "source": [
    "## 优化代码"
   ]
  },
  {
   "cell_type": "markdown",
   "metadata": {},
   "source": [
    "* 三层网络，添加激活层、drop层，使用交叉熵计算loss"
   ]
  },
  {
   "cell_type": "code",
   "execution_count": 6,
   "metadata": {},
   "outputs": [
    {
     "name": "stdout",
     "output_type": "stream",
     "text": [
      "Iter 0 Testing Accuracy: 0.9212\n",
      "Iter 1 Testing Accuracy: 0.9357\n",
      "Iter 2 Testing Accuracy: 0.9437\n",
      "Iter 3 Testing Accuracy: 0.9487\n",
      "Iter 4 Testing Accuracy: 0.9507\n",
      "Iter 5 Testing Accuracy: 0.9533\n",
      "Iter 6 Testing Accuracy: 0.9575\n",
      "Iter 7 Testing Accuracy: 0.9597\n",
      "Iter 8 Testing Accuracy: 0.9624\n",
      "Iter 9 Testing Accuracy: 0.963\n",
      "Iter 10 Testing Accuracy: 0.965\n",
      "Iter 11 Testing Accuracy: 0.966\n",
      "Iter 12 Testing Accuracy: 0.9674\n",
      "Iter 13 Testing Accuracy: 0.9687\n",
      "Iter 14 Testing Accuracy: 0.9686\n",
      "Iter 15 Testing Accuracy: 0.9701\n",
      "Iter 16 Testing Accuracy: 0.9699\n",
      "Iter 17 Testing Accuracy: 0.9708\n",
      "Iter 18 Testing Accuracy: 0.972\n",
      "Iter 19 Testing Accuracy: 0.9713\n",
      "Iter 20 Testing Accuracy: 0.9735\n",
      "Iter 21 Testing Accuracy: 0.9734\n",
      "Iter 22 Testing Accuracy: 0.9736\n",
      "Iter 23 Testing Accuracy: 0.9726\n",
      "Iter 24 Testing Accuracy: 0.9742\n",
      "Iter 25 Testing Accuracy: 0.9752\n",
      "Iter 26 Testing Accuracy: 0.9751\n",
      "Iter 27 Testing Accuracy: 0.9753\n",
      "Iter 28 Testing Accuracy: 0.9756\n",
      "Iter 29 Testing Accuracy: 0.9769\n",
      "Iter 30 Testing Accuracy: 0.9766\n",
      "Iter 31 Testing Accuracy: 0.9767\n",
      "Iter 32 Testing Accuracy: 0.978\n",
      "Iter 33 Testing Accuracy: 0.9783\n",
      "Iter 34 Testing Accuracy: 0.9788\n",
      "Iter 35 Testing Accuracy: 0.9786\n",
      "Iter 36 Testing Accuracy: 0.9785\n",
      "Iter 37 Testing Accuracy: 0.9792\n",
      "Iter 38 Testing Accuracy: 0.9795\n",
      "Iter 39 Testing Accuracy: 0.9795\n",
      "Iter 40 Testing Accuracy: 0.9801\n",
      "Iter 41 Testing Accuracy: 0.9803\n",
      "Iter 42 Testing Accuracy: 0.9803\n",
      "Iter 43 Testing Accuracy: 0.9804\n",
      "Iter 44 Testing Accuracy: 0.9805\n",
      "Iter 45 Testing Accuracy: 0.9799\n",
      "Iter 46 Testing Accuracy: 0.9798\n",
      "Iter 47 Testing Accuracy: 0.9805\n",
      "Iter 48 Testing Accuracy: 0.9809\n",
      "Iter 49 Testing Accuracy: 0.981\n",
      "Iter 50 Testing Accuracy: 0.9809\n",
      "Iter 51 Testing Accuracy: 0.9807\n",
      "Iter 52 Testing Accuracy: 0.9803\n",
      "Iter 53 Testing Accuracy: 0.9813\n",
      "Iter 54 Testing Accuracy: 0.9813\n",
      "Iter 55 Testing Accuracy: 0.9807\n",
      "Iter 56 Testing Accuracy: 0.9819\n",
      "Iter 57 Testing Accuracy: 0.9817\n",
      "Iter 58 Testing Accuracy: 0.9816\n",
      "Iter 59 Testing Accuracy: 0.9817\n"
     ]
    }
   ],
   "source": [
    "# 批次的大小\n",
    "batch_size = 128\n",
    "n_batch = mnist.train.num_examples // batch_size\n",
    "\n",
    "x = tf.placeholder(tf.float32, [None,784])\n",
    "y = tf.placeholder(tf.float32, [None, 10])\n",
    "keep_prob = tf.placeholder(tf.float32)\n",
    "\n",
    "# 创建神经网络\n",
    "W1 = tf.Variable(tf.truncated_normal([784,2000],stddev=0.1))\n",
    "b1 = tf.Variable(tf.zeros([1, 2000]))\n",
    "# 激活层\n",
    "layer1 = tf.nn.relu(tf.matmul(x,W1) + b1)\n",
    "# drop层\n",
    "layer1 = tf.nn.dropout(layer1,keep_prob=keep_prob)\n",
    "\n",
    "# 第二层\n",
    "W2 = tf.Variable(tf.truncated_normal([2000,500],stddev=0.1))\n",
    "b2 = tf.Variable(tf.zeros([1, 500]))\n",
    "layer2 = tf.nn.relu(tf.matmul(layer1,W2) + b2)\n",
    "layer2 = tf.nn.dropout(layer2,keep_prob=keep_prob)\n",
    "\n",
    "# 第三层\n",
    "W3 = tf.Variable(tf.truncated_normal([500,10],stddev=0.1))\n",
    "b3 = tf.Variable(tf.zeros([1,10]))\n",
    "prediction = tf.nn.sigmoid(tf.matmul(layer2,W3) + b3)\n",
    "\n",
    "loss = tf.reduce_mean(tf.nn.softmax_cross_entropy_with_logits(labels=y, logits=prediction))\n",
    "\n",
    "# 梯度下降法\n",
    "train_step = tf.train.GradientDescentOptimizer(0.2).minimize(loss)\n",
    "\n",
    "# 初始化变量\n",
    "init = tf.global_variables_initializer()\n",
    "\n",
    "# 计算准确率\n",
    "prediction_2 = tf.nn.softmax(prediction)\n",
    "# 得到一个布尔型列表，存放结果是否正确\n",
    "correct_prediction = tf.equal(tf.argmax(y,1), tf.argmax(prediction_2,1)) #argmax 返回一维张量中最大值索引\n",
    "\n",
    "# 求准确率\n",
    "accuracy = tf.reduce_mean(tf.cast(correct_prediction,tf.float32)) # 把布尔值转换为浮点型求平均数\n",
    "\n",
    "with tf.Session() as sess:\n",
    "    sess.run(init)\n",
    "    for epoch in range(60):\n",
    "        for batch in range(n_batch):\n",
    "            # 获得批次数据\n",
    "            batch_xs, batch_ys = mnist.train.next_batch(batch_size)\n",
    "            sess.run(train_step, feed_dict={x:batch_xs, y:batch_ys, keep_prob:0.8})\n",
    "        acc = sess.run(accuracy, feed_dict={x:mnist.test.images,y:mnist.test.labels,keep_prob:1.0} )\n",
    "        print(\"Iter \" + str(epoch) + \" Testing Accuracy: \" + str(acc))"
   ]
  },
  {
   "cell_type": "code",
   "execution_count": null,
   "metadata": {
    "collapsed": true
   },
   "outputs": [],
   "source": []
  }
 ],
 "metadata": {
  "kernelspec": {
   "display_name": "Python 3",
   "language": "python",
   "name": "python3"
  },
  "language_info": {
   "codemirror_mode": {
    "name": "ipython",
    "version": 3
   },
   "file_extension": ".py",
   "mimetype": "text/x-python",
   "name": "python",
   "nbconvert_exporter": "python",
   "pygments_lexer": "ipython3",
   "version": "3.6.6"
  }
 },
 "nbformat": 4,
 "nbformat_minor": 2
}
