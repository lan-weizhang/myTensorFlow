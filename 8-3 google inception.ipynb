{
 "cells": [
  {
   "cell_type": "code",
   "execution_count": 1,
   "metadata": {
    "collapsed": true
   },
   "outputs": [],
   "source": [
    "import tensorflow as tf\n",
    "import os\n",
    "import tarfile\n",
    "import requests"
   ]
  },
  {
   "cell_type": "code",
   "execution_count": 2,
   "metadata": {},
   "outputs": [
    {
     "name": "stdout",
     "output_type": "stream",
     "text": [
      "finish:  inception-2015-12-05.tgz\n"
     ]
    }
   ],
   "source": [
    "inception_pretrain_model_url = 'http://download.tensorflow.org/models/image/imagenet/inception-2015-12-05.tgz'\n",
    "\n",
    "inception_pretrain_model_dir = \"inception_model\"\n",
    "if not os.path.exists(inception_pretrain_model_dir):\n",
    "    os.makedirs(inception_pretrain_model_dir)\n",
    "\n",
    "filename = inception_pretrain_model_url.split('/')[-1]\n",
    "filepath = os.path.join(inception_pretrain_model_dir,filename)\n",
    "\n",
    "if not os.path.exists(filepath):\n",
    "    print('download:',filename)\n",
    "    #如果将stream=True 则会推迟响应内容的下载\n",
    "    r = requests.get(inception_pretrain_model_url, stream=True)\n",
    "    with open(filepath, 'wb') as f:\n",
    "        for chunk in r.iter_content(chunk_size=1024):\n",
    "            if chunk:\n",
    "                f.write(chunk)\n",
    "print('finish: ',filename)\n",
    "#解压文件\n",
    "#参数'r:gz'的意思，采用gzip格式解压并打开文件\n",
    "tarfile.open(filepath, 'r:gz').extractall(inception_pretrain_model_dir)\n",
    "\n",
    "log_dir = 'logs/inception_log'\n",
    "\n",
    "if not os.path.exists(log_dir):\n",
    "    os.makedirs(log_dir)\n",
    "\n",
    "# classfy_image_graph_def.pb 为google训练好的模型\n",
    "inception_graph_def_fiel = os.path.join(inception_pretrain_model_dir,'classify_image_graph_def.pb')\n",
    "with tf.Session() as sess:\n",
    "    #创建一个图来存放google训练好的模型\n",
    "    with tf.gfile.FastGFile(inception_graph_def_fiel, 'rb') as f:\n",
    "        graph_def = tf.GraphDef()\n",
    "#         graph_def.ParseFromSring(f.read())\n",
    "        graph_def.ParseFromString(f.read())\n",
    "    # 解释 https://blog.csdn.net/qq_34106574/article/details/82686389\n",
    "    #这个函数提供了一种方法来导入序列化的TensorFlow GraphDef协议缓冲区，并将GraphDef中的各个对象提取为tf。\n",
    "    #操作对象。一旦提取出来，这些对象就会被放到当前的默认图形中。。参考tf.Graph.as_graph_def 来创建 a GraphDef proto.\n",
    "        tf.import_graph_def(graph_def, name='')\n",
    "    \n",
    "    # 保存图的结构\n",
    "    writer = tf.summary.FileWriter(log_dir, sess.graph)\n",
    "    writer.close()\n",
    "\n"
   ]
  },
  {
   "cell_type": "code",
   "execution_count": 3,
   "metadata": {},
   "outputs": [
    {
     "name": "stdout",
     "output_type": "stream",
     "text": [
      "inception-2015-12-05.tgz\n",
      "inception_model\\inception-2015-12-05.tgz\n"
     ]
    }
   ],
   "source": [
    "print(filename)\n",
    "print(filepath)"
   ]
  },
  {
   "cell_type": "code",
   "execution_count": null,
   "metadata": {
    "collapsed": true
   },
   "outputs": [],
   "source": []
  }
 ],
 "metadata": {
  "kernelspec": {
   "display_name": "Python 3",
   "language": "python",
   "name": "python3"
  },
  "language_info": {
   "codemirror_mode": {
    "name": "ipython",
    "version": 3
   },
   "file_extension": ".py",
   "mimetype": "text/x-python",
   "name": "python",
   "nbconvert_exporter": "python",
   "pygments_lexer": "ipython3",
   "version": "3.6.2"
  }
 },
 "nbformat": 4,
 "nbformat_minor": 2
}
