{
 "cells": [
  {
   "cell_type": "code",
   "execution_count": 1,
   "metadata": {},
   "outputs": [
    {
     "name": "stdout",
     "output_type": "stream",
     "text": [
      "Extracting MNIST_data\\train-images-idx3-ubyte.gz\n",
      "Extracting MNIST_data\\train-labels-idx1-ubyte.gz\n",
      "Extracting MNIST_data\\t10k-images-idx3-ubyte.gz\n",
      "Extracting MNIST_data\\t10k-labels-idx1-ubyte.gz\n"
     ]
    }
   ],
   "source": [
    "import tensorflow as tf\n",
    "from tensorflow.examples.tutorials.mnist import input_data\n",
    "# 载入数据\n",
    "mnist = input_data.read_data_sets('MNIST_data', one_hot=True)\n",
    "import os"
   ]
  },
  {
   "cell_type": "code",
   "execution_count": 2,
   "metadata": {},
   "outputs": [
    {
     "name": "stdout",
     "output_type": "stream",
     "text": [
      "Iter 0 Testing Accuracy: 0.9017\n",
      "Iter 1 Testing Accuracy: 0.9138\n",
      "Iter 2 Testing Accuracy: 0.9175\n",
      "Iter 3 Testing Accuracy: 0.9212\n",
      "Iter 4 Testing Accuracy: 0.9224\n",
      "Iter 5 Testing Accuracy: 0.9246\n",
      "Iter 6 Testing Accuracy: 0.9237\n",
      "Iter 7 Testing Accuracy: 0.9261\n",
      "Iter 8 Testing Accuracy: 0.9262\n",
      "Iter 9 Testing Accuracy: 0.9271\n",
      "Iter 10 Testing Accuracy: 0.9251\n",
      "Iter 11 Testing Accuracy: 0.926\n",
      "Iter 12 Testing Accuracy: 0.9274\n",
      "Iter 13 Testing Accuracy: 0.9267\n",
      "Iter 14 Testing Accuracy: 0.9261\n",
      "Iter 15 Testing Accuracy: 0.9272\n",
      "Iter 16 Testing Accuracy: 0.9273\n",
      "Iter 17 Testing Accuracy: 0.9263\n",
      "Iter 18 Testing Accuracy: 0.927\n",
      "Iter 19 Testing Accuracy: 0.9274\n",
      "Iter 20 Testing Accuracy: 0.9277\n"
     ]
    }
   ],
   "source": [
    "# 批次的大小\n",
    "batch_size = 128\n",
    "n_batch = mnist.train.num_examples // batch_size\n",
    "\n",
    "x = tf.placeholder(tf.float32, [None,784],name=\"training_data\")\n",
    "y = tf.placeholder(tf.float32, [None, 10],name =\"labels\")\n",
    "\n",
    "# 创建一个简单的神经网络\n",
    "W = tf.Variable(tf.zeros([784,10]))\n",
    "b = tf.Variable(tf.zeros([10]))\n",
    "prediction = tf.matmul(x,W) + b\n",
    "\n",
    "# 代价函数\n",
    "# loss = tf.reduce_mean(tf.square(y-prediction))\n",
    "loss = tf.reduce_mean(tf.nn.softmax_cross_entropy_with_logits(labels=y, logits=prediction))\n",
    "\n",
    "# 梯度下降法\n",
    "# train_step = tf.train.GradientDescentOptimizer(0.2).minimize(loss)\n",
    "train_step = tf.train.AdamOptimizer().minimize(loss)\n",
    "\n",
    "# 初始化变量\n",
    "init = tf.global_variables_initializer()\n",
    "\n",
    "# 得到一个布尔型列表，存放结果是否正确\n",
    "correct_prediction = tf.equal(tf.argmax(y,1), tf.argmax(prediction,1)) #argmax 返回一维张量中最大值索引\n",
    "\n",
    "# 求准确率\n",
    "accuracy = tf.reduce_mean(tf.cast(correct_prediction,tf.float32),name = \"accuracy\") # 把布尔值转换为浮点型求平均数\n",
    "\n",
    "saver = tf.train.Saver()\n",
    "\n",
    "with tf.Session() as sess:\n",
    "    sess.run(init)\n",
    "    for epoch in range(21):\n",
    "        for batch in range(n_batch):\n",
    "            # 获得批次数据\n",
    "            batch_xs, batch_ys = mnist.train.next_batch(batch_size)\n",
    "            sess.run(train_step, feed_dict={x:batch_xs, y:batch_ys})\n",
    "        acc = sess.run(accuracy, feed_dict={x:mnist.test.images,y:mnist.test.labels})\n",
    "        print(\"Iter \" + str(epoch) + \" Testing Accuracy: \" + str(acc))\n",
    "    saver.save(sess, 'net/my_net.ckpt')"
   ]
  }
 ],
 "metadata": {
  "kernelspec": {
   "display_name": "Python 3",
   "language": "python",
   "name": "python3"
  },
  "language_info": {
   "codemirror_mode": {
    "name": "ipython",
    "version": 3
   },
   "file_extension": ".py",
   "mimetype": "text/x-python",
   "name": "python",
   "nbconvert_exporter": "python",
   "pygments_lexer": "ipython3",
   "version": "3.6.2"
  }
 },
 "nbformat": 4,
 "nbformat_minor": 2
}
