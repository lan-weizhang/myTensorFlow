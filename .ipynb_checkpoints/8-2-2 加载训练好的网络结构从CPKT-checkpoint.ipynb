{
 "cells": [
  {
   "cell_type": "code",
   "execution_count": 1,
   "metadata": {},
   "outputs": [
    {
     "name": "stdout",
     "output_type": "stream",
     "text": [
      "Extracting MNIST_data\\train-images-idx3-ubyte.gz\n",
      "Extracting MNIST_data\\train-labels-idx1-ubyte.gz\n",
      "Extracting MNIST_data\\t10k-images-idx3-ubyte.gz\n",
      "Extracting MNIST_data\\t10k-labels-idx1-ubyte.gz\n"
     ]
    }
   ],
   "source": [
    "import tensorflow as tf\n",
    "from tensorflow.examples.tutorials.mnist import input_data\n",
    "# 载入数据\n",
    "mnist = input_data.read_data_sets('MNIST_data', one_hot=True)"
   ]
  },
  {
   "cell_type": "code",
   "execution_count": 2,
   "metadata": {},
   "outputs": [
    {
     "name": "stdout",
     "output_type": "stream",
     "text": [
      "INFO:tensorflow:Restoring parameters from net/my_net.ckpt\n",
      " Init Accuracy0.9282\n"
     ]
    }
   ],
   "source": [
    "new_saver = tf.train.import_meta_graph('net/my_net.ckpt.meta')\n",
    "graph = tf.get_default_graph()\n",
    "accuracy_A =  graph.get_tensor_by_name('accuracy:0')\n",
    "saver = tf.train.Saver()\n",
    "log_dir = 'logs/temp'\n",
    "with tf.Session() as sess:\n",
    "    \n",
    "    #new_saver.restore(sess, tf.train.latest_checkpoint('net/'))\n",
    "    new_saver.restore(sess, 'net/my_net.ckpt')\n",
    "    \n",
    "    writer = tf.summary.FileWriter(log_dir, sess.graph)\n",
    "    writer.close()\n",
    "    acc1 = sess.run(accuracy_A, feed_dict={'training_data:0':mnist.test.images, 'labels:0':mnist.test.labels})\n",
    "    \n",
    "    #acc2 = sess.run(accuracy, feed_dict={x:mnist.test.images,y:mnist.test.labels})\n",
    "    print(\" Init Accuracy\" + str(acc1))\n",
    "  "
   ]
  },
  {
   "cell_type": "code",
   "execution_count": null,
   "metadata": {
    "collapsed": true
   },
   "outputs": [],
   "source": []
  },
  {
   "cell_type": "code",
   "execution_count": null,
   "metadata": {
    "collapsed": true
   },
   "outputs": [],
   "source": []
  }
 ],
 "metadata": {
  "kernelspec": {
   "display_name": "Python 3",
   "language": "python",
   "name": "python3"
  },
  "language_info": {
   "codemirror_mode": {
    "name": "ipython",
    "version": 3
   },
   "file_extension": ".py",
   "mimetype": "text/x-python",
   "name": "python",
   "nbconvert_exporter": "python",
   "pygments_lexer": "ipython3",
   "version": "3.6.2"
  }
 },
 "nbformat": 4,
 "nbformat_minor": 2
}
