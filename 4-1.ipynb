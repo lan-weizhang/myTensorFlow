{
 "cells": [
  {
   "cell_type": "code",
   "execution_count": 2,
   "metadata": {},
   "outputs": [
    {
     "name": "stdout",
     "output_type": "stream",
     "text": [
      "Extracting MNIST_data\\train-images-idx3-ubyte.gz\n",
      "Extracting MNIST_data\\train-labels-idx1-ubyte.gz\n",
      "Extracting MNIST_data\\t10k-images-idx3-ubyte.gz\n",
      "Extracting MNIST_data\\t10k-labels-idx1-ubyte.gz\n",
      "[ 1.  1.  1. ...,  1.  0.  1.]\n",
      "Iter0, Testing Accuracy[ 1.  1.  1. ...,  1.  0.  1.]\n"
     ]
    }
   ],
   "source": [
    "import tensorflow as tf\n",
    "from tensorflow.examples.tutorials.mnist import input_data\n",
    "#载入数据\n",
    "mnist = input_data.read_data_sets(\"MNIST_data\",one_hot=True)\n",
    "#每个批次的大小\n",
    "batch_size = 200\n",
    "#计算一共有多少个批次\n",
    "n_batch = mnist.train.num_examples // batch_size\n",
    "\n",
    "#定义placeholder\n",
    "x = tf.placeholder(tf.float32, [None,784])\n",
    "y = tf.placeholder(tf.float32, [None,10])\n",
    "\n",
    "#构建神经网络\n",
    "W = tf.Variable(tf.zeros([784,10]))\n",
    "b = tf.Variable(tf.zeros([1,10]))\n",
    "W_plus_b = tf.matmul(x,W) + b\n",
    "prediction  = tf.nn.softmax(W_plus_b)\n",
    "\n",
    "\n",
    "#二次代价函数\n",
    "#loss = tf.reduce_mean(tf.square(y-prediction))\n",
    "\n",
    "loss = tf.reduce_mean(tf.nn.softmax_cross_entropy_with_logits(labels = y,logits = prediction))\n",
    "\n",
    "train_step  = tf.train.GradientDescentOptimizer(0.2).minimize(loss)\n",
    "\n",
    "#变量初始化\n",
    "init = tf.global_variables_initializer()\n",
    "\n",
    "#结果存放在布尔型列表中\n",
    "correct_prediction = tf.equal(tf.argmax(y,1),tf.argmax(prediction,1))\n",
    "\n",
    "#求准确率\n",
    "accuracy = tf.cast(correct_prediction,tf.float32)\n",
    "\n",
    "with tf.Session() as sess:\n",
    "    #变量初始化\n",
    "    sess.run(init)\n",
    "    for epoch in range(1):\n",
    "        for batch in range(n_batch):\n",
    "            batch_xs,batch_ys = mnist.train.next_batch(batch_size)\n",
    "            feed_dict = {x:  batch_xs, y: batch_ys}\n",
    "            sess.run(train_step,feed_dict)\n",
    "        acc = sess.run(accuracy,feed_dict = {x:mnist.test.images, y:mnist.test.labels})\n",
    "        print(type(acc))\n",
    "    #获得预测值\n",
    "        print(\"Iter\" + str(epoch)+ \", Testing Accuracy\"+ str(acc))\n",
    "    \n"
   ]
  },
  {
   "cell_type": "code",
   "execution_count": 7,
   "metadata": {},
   "outputs": [
    {
     "name": "stdout",
     "output_type": "stream",
     "text": [
      "10000\n"
     ]
    }
   ],
   "source": [
    "print(len(acc))"
   ]
  },
  {
   "cell_type": "code",
   "execution_count": null,
   "metadata": {
    "collapsed": true
   },
   "outputs": [],
   "source": []
  }
 ],
 "metadata": {
  "kernelspec": {
   "display_name": "Python 3",
   "language": "python",
   "name": "python3"
  },
  "language_info": {
   "codemirror_mode": {
    "name": "ipython",
    "version": 3
   },
   "file_extension": ".py",
   "mimetype": "text/x-python",
   "name": "python",
   "nbconvert_exporter": "python",
   "pygments_lexer": "ipython3",
   "version": "3.6.2"
  }
 },
 "nbformat": 4,
 "nbformat_minor": 2
}
