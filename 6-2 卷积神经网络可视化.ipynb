{
 "cells": [
  {
   "cell_type": "code",
   "execution_count": 1,
   "metadata": {
    "scrolled": true
   },
   "outputs": [
    {
     "name": "stdout",
     "output_type": "stream",
     "text": [
      "Extracting MNIST_data\\train-images-idx3-ubyte.gz\n",
      "Extracting MNIST_data\\train-labels-idx1-ubyte.gz\n",
      "Extracting MNIST_data\\t10k-images-idx3-ubyte.gz\n",
      "Extracting MNIST_data\\t10k-labels-idx1-ubyte.gz\n"
     ]
    }
   ],
   "source": [
    "import tensorflow as tf\n",
    "from tensorflow.examples.tutorials.mnist import input_data\n",
    "mnist = input_data.read_data_sets('MNIST_data', one_hot=True)\n"
   ]
  },
  {
   "cell_type": "markdown",
   "metadata": {},
   "source": [
    "等号之间不能有空格\n",
    "D:\\>tensorboard --logdir=D:\\Tensorflow\\logs "
   ]
  },
  {
   "cell_type": "code",
   "execution_count": 2,
   "metadata": {
    "scrolled": true
   },
   "outputs": [
    {
     "name": "stdout",
     "output_type": "stream",
     "text": [
      "Iter: 0, acc: 0.935\n",
      "Iter: 1, acc: 0.9533\n",
      "Iter: 2, acc: 0.9624\n",
      "Iter: 3, acc: 0.9661\n",
      "Iter: 4, acc: 0.971\n",
      "Iter: 5, acc: 0.9724\n",
      "Iter: 6, acc: 0.9748\n",
      "Iter: 7, acc: 0.9754\n",
      "Iter: 8, acc: 0.9771\n",
      "Iter: 9, acc: 0.9789\n",
      "Iter: 10, acc: 0.9796\n",
      "Iter: 11, acc: 0.9792\n",
      "Iter: 12, acc: 0.9816\n",
      "Iter: 13, acc: 0.9818\n",
      "Iter: 14, acc: 0.9801\n",
      "Iter: 15, acc: 0.9815\n",
      "Iter: 16, acc: 0.9843\n",
      "Iter: 17, acc: 0.9828\n",
      "Iter: 18, acc: 0.9835\n",
      "Iter: 19, acc: 0.9842\n"
     ]
    }
   ],
   "source": [
    "batch_size = 100\n",
    "n_batch = mnist.train.num_examples // batch_size\n",
    "\n",
    "\n",
    "def variable_summaries(var):\n",
    "    with tf.name_scope('summaries'):\n",
    "        mean = tf.reduce_mean(var)\n",
    "        tf.summary.scalar('mean',mean)\n",
    "        with tf.name_scope('stddev'):\n",
    "            stddev = tf.sqrt(tf.reduce_mean(tf.square(var-mean)))\n",
    "        tf.summary.scalar('stddev',stddev)\n",
    "        tf.summary.scalar('max',tf.reduce_max(var))\n",
    "        tf.summary.scalar('min',tf.reduce_min(var))\n",
    "        tf.summary.histogram('histogram',var)\n",
    "        \n",
    "\n",
    "def weight_variable(shape):\n",
    "    return tf.Variable(tf.truncated_normal(shape,stddev=0.1))\n",
    "\n",
    "def bias_vairable(shape):\n",
    "    return tf.Variable(tf.constant(0.1, shape=shape))\n",
    "\n",
    "def conv2d(x,W):\n",
    "    return tf.nn.conv2d(x,W,strides=[1,1,1,1],padding='SAME')\n",
    "\n",
    "def max_pool_2x2(x):\n",
    "    return tf.nn.max_pool(x,ksize=[1,2,2,1],strides=[1,2,2,1],padding='SAME')\n",
    "\n",
    "with tf.name_scope('input'):\n",
    "    x = tf.placeholder(tf.float32,[None,784],name='x-input')\n",
    "    y = tf.placeholder(tf.float32,[None,10],name='y-input')\n",
    "    x_image = tf.reshape(x,[-1,28,28,1])\n",
    "    \n",
    "keep_prob = tf.placeholder(tf.float32)\n",
    "\n",
    "\n",
    "with tf.name_scope('conv_layer_1'):  \n",
    "    #构建神经网络\n",
    "    with tf.name_scope('weights'): \n",
    "        W_conv1 = weight_variable([5,5,1,10]) # 5*5的采样窗口，10个卷积核从1个平面抽取特征\n",
    "    with tf.name_scope('biase'): \n",
    "        b_conv1 = bias_vairable([10]) #每个卷积核一个偏置值\n",
    "    # 28*28*1 的图片卷积之后变为28*28*10\n",
    "    with tf.name_scope('wx_plus_b'): \n",
    "        h_conv1 = tf.nn.relu(conv2d(x_image, W_conv1) + b_conv1)\n",
    "        \n",
    "    with tf.name_scope('pool_layer_1'): \n",
    "    # 池化之后变为 14*14*10\n",
    "        h_pool1 = max_pool_2x2(h_conv1)\n",
    "\n",
    "with tf.name_scope('conv_layer_2'):   \n",
    "    # 第二次卷积之后变为 14*14*64\n",
    "    with tf.name_scope('weights'):\n",
    "        W_conv2 = weight_variable([5,5,10,3])\n",
    "    with tf.name_scope('biase'):\n",
    "        b_conv2 = bias_vairable([3])\n",
    "    with tf.name_scope('wx_plus_b'): \n",
    "        h_conv2 = tf.nn.relu(conv2d(h_pool1,W_conv2) + b_conv2)\n",
    "    # 第二次池化之后变为 7*7*3\n",
    "    with tf.name_scope('pool_layer_2'): \n",
    "        h_pool2 = max_pool_2x2(h_conv2)\n",
    "        # 7*7*64的图像变成1维向量\n",
    "        h_pool2_flat = tf.reshape(h_pool2,[-1,7*7*3])\n",
    "\n",
    "with tf.name_scope('dense_1'):   \n",
    "    # 第一个全连接层\n",
    "    with tf.name_scope('weights'):\n",
    "        W_fc1 = weight_variable([7*7*3,30])\n",
    "    with tf.name_scope('biase'):    \n",
    "        b_fc1 = bias_vairable([30])\n",
    "    with tf.name_scope('relu'): \n",
    "        h_fc1 = tf.nn.relu(tf.matmul(h_pool2_flat, W_fc1) + b_fc1)\n",
    "    with tf.name_scope('drop'): \n",
    "        h_fc1_drop = tf.nn.dropout(h_fc1, keep_prob)\n",
    "\n",
    "\n",
    "# 第二个全连接层\n",
    "with tf.name_scope('dense_2'):   \n",
    "    # 第一个全连接层\n",
    "    with tf.name_scope('weights'):\n",
    "        W_fc2 = weight_variable([30,10])\n",
    "    with tf.name_scope('biase'):  \n",
    "        b_fc2 = bias_vairable([10])\n",
    "    with tf.name_scope('wx_plus_b'): \n",
    "        logits = tf.matmul(h_fc1_drop,W_fc2) + b_fc2\n",
    "    with tf.name_scope('sigmoid'):   \n",
    "        prediction = tf.nn.sigmoid(logits)\n",
    "        prediction_2 = tf.nn.softmax(prediction)\n",
    "with tf.name_scope('loss'):\n",
    "    loss = tf.reduce_mean(tf.nn.softmax_cross_entropy_with_logits(labels=y, logits=logits))\n",
    "    tf.summary.scalar('loss',loss)\n",
    "with tf.name_scope('train'):\n",
    "    train_step = tf.train.AdamOptimizer(0.001).minimize(loss)\n",
    "\n",
    "with tf.name_scope('accuracy'):\n",
    "    with tf.name_scope('correct_prediction'):\n",
    "        correct_prediction = (tf.equal(tf.argmax(prediction_2,1), tf.argmax(y,1)))\n",
    "    with tf.name_scope('calculate_accuracy'):\n",
    "        accuracy = tf.reduce_mean(tf.cast(correct_prediction,tf.float32))\n",
    "        tf.summary.scalar('accuracy',accuracy)\n",
    "\n",
    "merged = tf.summary.merge_all()\n",
    "with tf.Session() as sess:\n",
    "    sess.run(tf.global_variables_initializer())\n",
    "    writer = tf.summary.FileWriter('temp/',sess.graph)\n",
    "    for epoch in range(20):\n",
    "        for batch in range(n_batch):\n",
    "            batch_xs, batch_ys = mnist.train.next_batch(batch_size)\n",
    "            summary,_ = sess.run([merged,train_step], feed_dict={x:batch_xs,y:batch_ys,keep_prob:0.7})\n",
    "        writer.add_summary(summary,epoch)\n",
    "        acc = sess.run(accuracy, feed_dict={x:mnist.test.images, y:mnist.test.labels, keep_prob:1.0})\n",
    "        print(\"Iter: \" + str(epoch) + \", acc: \" + str(acc))"
   ]
  },
  {
   "cell_type": "code",
   "execution_count": null,
   "metadata": {
    "collapsed": true
   },
   "outputs": [],
   "source": []
  },
  {
   "cell_type": "code",
   "execution_count": null,
   "metadata": {
    "collapsed": true
   },
   "outputs": [],
   "source": []
  }
 ],
 "metadata": {
  "kernelspec": {
   "display_name": "Python 3",
   "language": "python",
   "name": "python3"
  },
  "language_info": {
   "codemirror_mode": {
    "name": "ipython",
    "version": 3
   },
   "file_extension": ".py",
   "mimetype": "text/x-python",
   "name": "python",
   "nbconvert_exporter": "python",
   "pygments_lexer": "ipython3",
   "version": "3.6.2"
  }
 },
 "nbformat": 4,
 "nbformat_minor": 2
}
