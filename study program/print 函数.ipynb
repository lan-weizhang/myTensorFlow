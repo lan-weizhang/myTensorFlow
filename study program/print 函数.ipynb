{
 "cells": [
  {
   "cell_type": "markdown",
   "metadata": {},
   "source": [
    "在Python中我们都知道单引号和双引号都可以用来表示一个字符串，比如\n",
    "\n",
    "str1 = 'python'\n",
    "\n",
    "str2 = \"python\" \n",
    "\n",
    "str1和str2是没有任何区别的。\n"
   ]
  },
  {
   "cell_type": "code",
   "execution_count": null,
   "metadata": {
    "collapsed": true
   },
   "outputs": [],
   "source": [
    "string=\"hello\" \n",
    "#%s打印时结果是hello\n",
    "print (\"string=%s\" % string)  "
   ]
  },
  {
   "cell_type": "code",
   "execution_count": null,
   "metadata": {
    "collapsed": true
   },
   "outputs": [],
   "source": [
    "num=14  \n",
    "#%d打印时结果是14  \n",
    "print (\"num=%d\",% num )   \n"
   ]
  },
  {
   "cell_type": "code",
   "execution_count": 6,
   "metadata": {},
   "outputs": [
    {
     "name": "stdout",
     "output_type": "stream",
     "text": [
      "PI=3.14159265358979311600\n"
     ]
    }
   ],
   "source": [
    "import math \n",
    "#%6.3f表示小数点后面精确到3位，总长度6位数，包括小数点，不够左侧补空格  \n",
    "print (\"PI=%.20f\" % math.pi )         # output: PI=_3.142 "
   ]
  },
  {
   "cell_type": "code",
   "execution_count": null,
   "metadata": {
    "collapsed": true
   },
   "outputs": [],
   "source": []
  }
 ],
 "metadata": {
  "kernelspec": {
   "display_name": "Python 3",
   "language": "python",
   "name": "python3"
  },
  "language_info": {
   "codemirror_mode": {
    "name": "ipython",
    "version": 3
   },
   "file_extension": ".py",
   "mimetype": "text/x-python",
   "name": "python",
   "nbconvert_exporter": "python",
   "pygments_lexer": "ipython3",
   "version": "3.6.2"
  }
 },
 "nbformat": 4,
 "nbformat_minor": 2
}
