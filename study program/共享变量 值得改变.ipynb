{
 "cells": [
  {
   "cell_type": "code",
   "execution_count": 22,
   "metadata": {},
   "outputs": [
    {
     "name": "stdout",
     "output_type": "stream",
     "text": [
      "scope1_17/x1:0 [ 1.]\n",
      "scope1_17/x1_1:0 [ 0.]\n",
      "scope1/y1:0 1.0\n",
      "scope1/y1:0 1.0\n",
      "8.0\n",
      "8.0\n"
     ]
    }
   ],
   "source": [
    "import tensorflow as tf\n",
    "\n",
    "with tf.variable_scope('scope1' ,reuse=True) as scope1:\n",
    "    x1 = tf.Variable(tf.ones([1]),name='x1')\n",
    "    x2 = tf.Variable(tf.zeros([1]),name='x1')\n",
    "    y1 = tf.get_variable('y1',initializer=1.0)\n",
    "    y2 = tf.get_variable('y1',initializer=0.0)\n",
    "\n",
    "update1=tf.assign(x2,[8])\n",
    "update2=tf.assign(y2,8)\n",
    "    \n",
    "init = tf.global_variables_initializer()\n",
    "with tf.Session() as sess:\n",
    "    sess.run(init)\n",
    "    print(x1.name,x1.eval())\n",
    "    print(x2.name,x2.eval())\n",
    "    print(y1.name,y1.eval())\n",
    "    print(y2.name,y2.eval())\n",
    "    sess.run(update1)\n",
    "    sess.run(update2)\n",
    "    print(sess.run(y2))\n",
    "    print(sess.run(y1))\n"
   ]
  },
  {
   "cell_type": "code",
   "execution_count": 10,
   "metadata": {},
   "outputs": [
    {
     "name": "stdout",
     "output_type": "stream",
     "text": [
      "scope1_5/x1:0 [ 1.]\n",
      "scope1_5/x1_1:0 [ 0.]\n"
     ]
    }
   ],
   "source": [
    "with tf.name_scope('scope1') as scope1:\n",
    "    x1 = tf.Variable(tf.ones([1]),name='x1')\n",
    "    x2 = tf.Variable(tf.zeros([1]),name='x1')\n",
    "    init = tf.global_variables_initializer()\n",
    "    with tf.Session() as sess:\n",
    "        sess.run(init)\n",
    "        print(x1.name,x1.eval())\n",
    "        print(x2.name,x2.eval())\n"
   ]
  },
  {
   "cell_type": "code",
   "execution_count": null,
   "metadata": {
    "collapsed": true
   },
   "outputs": [],
   "source": []
  }
 ],
 "metadata": {
  "kernelspec": {
   "display_name": "Python 3",
   "language": "python",
   "name": "python3"
  },
  "language_info": {
   "codemirror_mode": {
    "name": "ipython",
    "version": 3
   },
   "file_extension": ".py",
   "mimetype": "text/x-python",
   "name": "python",
   "nbconvert_exporter": "python",
   "pygments_lexer": "ipython3",
   "version": "3.6.2"
  }
 },
 "nbformat": 4,
 "nbformat_minor": 2
}
