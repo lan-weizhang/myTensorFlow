{
 "cells": [
  {
   "cell_type": "markdown",
   "metadata": {},
   "source": [
    "os.walk() 方法用于通过在目录树中游走输出在目录中的文件名，向上或者向下。\n",
    "\n",
    "os.walk() 方法是一个简单易用的文件、目录遍历器，可以帮助我们高效的处理文件、目录方面的事情。\n",
    "\n",
    "os.walk(top[, topdown=True[, onerror=None[, followlinks=False]]])\n",
    "\n",
    "# 参数\n",
    "top -- 是你所要遍历的目录的地址, 返回的是一个三元组(root,dirs,files)。\n",
    "\n",
    "root 所指的是当前正在遍历的这个文件夹的本身的地址\n",
    "\n",
    "dirs 是一个 list ，内容是该文件夹中所有的目录的名字(不包括子目录)\n",
    "\n",
    "files 同样是 list , 内容是该文件夹中所有的文件(不包括子目录)\n",
    "\n",
    "topdown --可选，为 True，则优先遍历 top 目录，否则优先遍历 top 的子目录(默认为开启)。如果 topdown 参数为 True，walk 会遍历top文件夹，与top 文件夹中每一个子目录。\n",
    "\n",
    "onerror -- 可选，需要一个 callable 对象，当 walk 需要异常时，会调用。\n",
    "\n",
    "followlinks -- 可选，如果为 True，则会遍历目录下的快捷方式(linux 下是软连接 symbolic link )实际所指的目录(默认关闭)，如果为 False，则优先遍历 top 的子目录。"
   ]
  },
  {
   "cell_type": "code",
   "execution_count": 1,
   "metadata": {},
   "outputs": [
    {
     "name": "stdout",
     "output_type": "stream",
     "text": [
      ".\\.ipynb_checkpoints\\request-checkpoint.ipynb\n",
      ".\\.ipynb_checkpoints\\Reshape-checkpoint.ipynb\n",
      ".\\.ipynb_checkpoints\\tf square-checkpoint.ipynb\n",
      ".\\.ipynb_checkpoints\\tf summary-checkpoint.ipynb\n",
      ".\\.ipynb_checkpoints\\Untitled-checkpoint.ipynb\n",
      ".\\.ipynb_checkpoints\\共享变量 值得改变-checkpoint.ipynb\n",
      ".\\.ipynb_checkpoints\\数据类型-checkpoint.ipynb\n",
      ".\\MNIST_data\\t10k-images-idx3-ubyte.gz\n",
      ".\\MNIST_data\\t10k-labels-idx1-ubyte.gz\n",
      ".\\MNIST_data\\train-images-idx3-ubyte.gz\n",
      ".\\MNIST_data\\train-labels-idx1-ubyte.gz\n",
      ".\\request.ipynb\n",
      ".\\Reshape.ipynb\n",
      ".\\tf square.ipynb\n",
      ".\\tf summary.ipynb\n",
      ".\\Untitled.ipynb\n",
      ".\\共享变量 值得改变.ipynb\n",
      ".\\数据类型.ipynb\n",
      ".\\美女.jpg\n",
      ".\\.ipynb_checkpoints\n",
      ".\\MNIST_data\n"
     ]
    }
   ],
   "source": [
    "import os\n",
    "for root, dirs, files in os.walk(\".\", topdown=False):\n",
    "    for name in files:\n",
    "        print(os.path.join(root, name))\n",
    "    for name in dirs:\n",
    "        print(os.path.join(root, name))"
   ]
  },
  {
   "cell_type": "code",
   "execution_count": null,
   "metadata": {
    "collapsed": true
   },
   "outputs": [],
   "source": []
  }
 ],
 "metadata": {
  "kernelspec": {
   "display_name": "Python 3",
   "language": "python",
   "name": "python3"
  },
  "language_info": {
   "codemirror_mode": {
    "name": "ipython",
    "version": 3
   },
   "file_extension": ".py",
   "mimetype": "text/x-python",
   "name": "python",
   "nbconvert_exporter": "python",
   "pygments_lexer": "ipython3",
   "version": "3.6.2"
  }
 },
 "nbformat": 4,
 "nbformat_minor": 2
}
