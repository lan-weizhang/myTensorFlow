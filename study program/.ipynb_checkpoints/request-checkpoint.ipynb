{
 "cells": [
  {
   "cell_type": "markdown",
   "metadata": {},
   "source": [
    "# 讲解连接 \n",
    "get response 函数 http://docs.python-requests.org/zh_CN/latest/api.html\n",
    "\n",
    "iter_count 函数 https://www.cnblogs.com/dkblog/archive/2011/02/24/1980651.html\n",
    "\n",
    "open函数 https://www.cnblogs.com/dkblog/archive/2011/02/24/1980651.html\n",
    "\n",
    "requests.get(url, params=None, **kwargs)[源代码]\n",
    "Sends a GET request.\n",
    "\n",
    "参数:\t\n",
    "url -- URL for the new Request object.\n",
    "params -- (optional) Dictionary or bytes to be sent in the query string for the Request.\n",
    "**kwargs -- Optional arguments that request takes.\n",
    "返回:\t\n",
    "Response object\n",
    "\n",
    "返回类型:\t\n",
    "requests.Response\n"
   ]
  },
  {
   "cell_type": "code",
   "execution_count": 7,
   "metadata": {},
   "outputs": [],
   "source": [
    "import requests\n",
    "url = \"http://wx4.sinaimg.cn/large/d030806aly1fq1vn8j0ajj21ho28bduy.jpg\"\n",
    "rsp = requests.get(url, stream=True)\n",
    "#打开文件的方式\n",
    "with open('美女.jpg', 'wb') as f:\n",
    "    # 边下载边存硬盘, chunk_size 可以自由调整为可以更好地适合您的用例的数字\n",
    "    for i in rsp.iter_content(chunk_size=1024):  \n",
    "        f.write(i)"
   ]
  }
 ],
 "metadata": {
  "kernelspec": {
   "display_name": "Python 3",
   "language": "python",
   "name": "python3"
  },
  "language_info": {
   "codemirror_mode": {
    "name": "ipython",
    "version": 3
   },
   "file_extension": ".py",
   "mimetype": "text/x-python",
   "name": "python",
   "nbconvert_exporter": "python",
   "pygments_lexer": "ipython3",
   "version": "3.6.2"
  }
 },
 "nbformat": 4,
 "nbformat_minor": 2
}
