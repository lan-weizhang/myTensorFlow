{
 "cells": [
  {
   "cell_type": "markdown",
   "metadata": {},
   "source": [
    "# retrain函数的运行方法\n",
    "https://www.jianshu.com/p/55e5847f7d36\n",
    "# retrain函数是怎么运行的\n",
    "程序首先会载入inception模型，然后将数据集输入生成Bottleneck文件存放在本地。\n",
    "\n",
    "然后再使用Bottleneck文件训练最后的softmax layer。\n",
    "\n",
    "注意程序在最后训练结束后会将softmax layer（包含一个全连接层）的两个参数固化，结合剩余的inception模型参数，一起固化为新的模型。"
   ]
  },
  {
   "cell_type": "code",
   "execution_count": null,
   "metadata": {
    "collapsed": true
   },
   "outputs": [],
   "source": []
  }
 ],
 "metadata": {
  "kernelspec": {
   "display_name": "Python 3",
   "language": "python",
   "name": "python3"
  },
  "language_info": {
   "codemirror_mode": {
    "name": "ipython",
    "version": 3
   },
   "file_extension": ".py",
   "mimetype": "text/x-python",
   "name": "python",
   "nbconvert_exporter": "python",
   "pygments_lexer": "ipython3",
   "version": "3.6.2"
  }
 },
 "nbformat": 4,
 "nbformat_minor": 2
}
