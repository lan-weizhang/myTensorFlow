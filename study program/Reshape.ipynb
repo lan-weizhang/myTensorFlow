{
 "cells": [
  {
   "cell_type": "code",
   "execution_count": 25,
   "metadata": {
    "collapsed": true
   },
   "outputs": [],
   "source": [
    "import tensorflow as tf\n",
    "import numpy as np"
   ]
  },
  {
   "cell_type": "markdown",
   "metadata": {},
   "source": [
    "tf.reshape(tensor, shape, name=None) \n",
    "函数的作用是将tensor变换为参数shape的形式。 \n",
    "其中shape为一个列表形式，特殊的一点是列表中可以存在-1。-1代表的含义是不用我们自己指定这一维的大小，函数会自动计算，但列表中只能存在一个-1。（当然如果存在多个-1，就是一个存在多解的方程了）\n",
    "\n",
    "好了我想说的重点还有一个就是根据shape如何变换矩阵。其实简单的想就是，\n",
    "\n",
    "reshape（t, shape） => reshape(t, [-1]) => reshape(t, shape)\n",
    "\n",
    "首先将矩阵t变为一维矩阵，然后再对矩阵的形式更改就可以了。"
   ]
  },
  {
   "cell_type": "code",
   "execution_count": 16,
   "metadata": {},
   "outputs": [
    {
     "name": "stdout",
     "output_type": "stream",
     "text": [
      "(2, 3)\n",
      "[2 3 2]\n",
      "[4 5 5]\n",
      "3\n"
     ]
    }
   ],
   "source": [
    "\n",
    "x1 = tf.Variable([[2,3,2],[4,5,5]],name='x1')\n",
    "\n",
    "\n",
    "init = tf.global_variables_initializer()\n",
    "with tf.Session() as sess:\n",
    "    sess.run(init)\n",
    "    x = sess.run(x1)\n",
    "    print(x.shape)\n",
    "    print(x[0])\n",
    "    print(x[1])\n",
    "    print(x[0][1])\n",
    "    \n",
    "    \n",
    "\n"
   ]
  },
  {
   "cell_type": "code",
   "execution_count": 26,
   "metadata": {},
   "outputs": [
    {
     "data": {
      "text/plain": [
       "(3, 2, 3)"
      ]
     },
     "execution_count": 26,
     "metadata": {},
     "output_type": "execute_result"
    }
   ],
   "source": [
    "b =np.array([[[1, 1, 1],   [2, 2, 2]],    [[3, 3, 3],[4, 4, 4]],[[5, 5, 5], [6, 6, 6]]])\n",
    "np.shape(b)"
   ]
  },
  {
   "cell_type": "code",
   "execution_count": null,
   "metadata": {
    "collapsed": true
   },
   "outputs": [],
   "source": []
  }
 ],
 "metadata": {
  "kernelspec": {
   "display_name": "Python 3",
   "language": "python",
   "name": "python3"
  },
  "language_info": {
   "codemirror_mode": {
    "name": "ipython",
    "version": 3
   },
   "file_extension": ".py",
   "mimetype": "text/x-python",
   "name": "python",
   "nbconvert_exporter": "python",
   "pygments_lexer": "ipython3",
   "version": "3.6.2"
  }
 },
 "nbformat": 4,
 "nbformat_minor": 2
}
